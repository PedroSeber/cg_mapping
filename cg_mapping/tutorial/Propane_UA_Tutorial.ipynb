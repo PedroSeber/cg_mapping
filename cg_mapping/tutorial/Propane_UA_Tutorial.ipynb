{
 "cells": [
  {
   "cell_type": "markdown",
   "metadata": {},
   "source": [
    "# United-Atom Propane Tutorial\n",
    "We're going to recover propane's bonded parameters from a \n",
    "short gromacs simulation (the relevant setup and simulation files\n",
    "can be found in sim_files). \n",
    "\n",
    "In order to run this simulation, we had to specify the bonded \n",
    "parameters, so we're just going to see if we can verify these\n",
    "parameters from a simulation.\n",
    "\n",
    "In reality with this set of tools, you would generate an atomistic\n",
    "trajectory, map the system to coarse-grained one, and then\n",
    "identify the (unknown) bonded parameters."
   ]
  },
  {
   "cell_type": "markdown",
   "metadata": {},
   "source": [
    "First, we need to construct an MDTraj Trajectory object, making\n",
    "sure to pass a trajectory file and a topology file\n",
    "*that includes bonds*"
   ]
  },
  {
   "cell_type": "code",
   "execution_count": 5,
   "metadata": {
    "collapsed": true
   },
   "outputs": [],
   "source": [
    "from cg_mapping import *\n",
    "import numpy as np\n",
    "import pandas as pd\n",
    "import mdtraj\n",
    "import itertools\n",
    "\n",
    "\n",
    "traj = mdtraj.load(\"npt_b.xtc\", top=\"npt_b.pdb\")"
   ]
  },
  {
   "cell_type": "markdown",
   "metadata": {},
   "source": [
    "Next, we need to identify all the beadtypes in this system"
   ]
  },
  {
   "cell_type": "code",
   "execution_count": 6,
   "metadata": {
    "collapsed": true
   },
   "outputs": [],
   "source": [
    "beadtypes = set([a.name for a in traj.topology.atoms])"
   ]
  },
  {
   "cell_type": "markdown",
   "metadata": {},
   "source": [
    "## Thermodynamic Setup\n",
    "Construct a State object, which is really just a way to keep \n",
    "track of our units and temperature. In this case, we will be using $k_b = 8.314e{-3} kJ mol^{-1} K^{-1}$ and 305 Kelvin."
   ]
  },
  {
   "cell_type": "code",
   "execution_count": 7,
   "metadata": {
    "collapsed": true
   },
   "outputs": [],
   "source": [
    "system_state = cg_utils.State(k_b=8.314e-3, T=305, traj=traj)"
   ]
  },
  {
   "cell_type": "markdown",
   "metadata": {},
   "source": [
    "## Bond stretching parameters\n",
    "To store all this information, we will be using Pandas DataFrames.\n",
    "The bonds are computed behind-the-scenes, one bond type at a time\n",
    "1. Construct a probability distribution of bonds $P(r)$\n",
    "2. Perform a Boltzmann inversion to calculate the potential energy of these bonds, $V(x) = -k_b * T * ln(P(x)) = \\frac{1}{2}K_b(x-x_0)^{2}$\n",
    "3. Fit a gaussian function to the probability distribution centered around the energetic minimum, $P(x) = \\frac{A}{(w\\sqrt{\\pi /2})} * e^{\\frac{-2(x-x_0)^{2}}{w^{2}}}$\n",
    "4. From the fitted parameters, the force constant $K_b = \\frac{4*k_b * T}{w^{2}}$ and the reference distance is $x_0$\n",
    "5. Bond distributions and energies are plotted for visualization and verification"
   ]
  },
  {
   "cell_type": "code",
   "execution_count": 8,
   "metadata": {},
   "outputs": [
    {
     "name": "stdout",
     "output_type": "stream",
     "text": [
      "---_CH2-_CH2---\n",
      "---_CH2-_CH3---\n",
      "---_CH3-_CH3---\n",
      "       #bond  force_constant        x0\n",
      "0  _CH2-_CH3   565437.503607  0.154016\n"
     ]
    }
   ],
   "source": [
    "all_bonding_parameters = pd.DataFrame(columns=['#bond', 'force_constant','x0'])\n",
    "\n",
    "for x,y in itertools.combinations_with_replacement(beadtypes, 2):\n",
    "    print(\"---{}-{}---\".format(x,y))\n",
    "    bond_parameters = system_state.compute_bond_parameters(x, y, plot=True)\n",
    "    if bond_parameters:\n",
    "        all_bonding_parameters.loc[len(all_bonding_parameters)] = \\\n",
    "            ['{}-{}'.format(x,y),\n",
    "            bond_parameters['force_constant'], bond_parameters['x0']]\n",
    "print(all_bonding_parameters)\n",
    "all_bonding_parameters.to_csv('bond_parameters.dat', sep='\\t', index=False)"
   ]
  },
  {
   "cell_type": "markdown",
   "metadata": {},
   "source": [
    "For reference, `prop.itp` says the reference distance is $0.154 nm$ and the force constant is $502416 kJ mol^{-1} nm^{-1}$"
   ]
  },
  {
   "cell_type": "markdown",
   "metadata": {},
   "source": [
    "## Bond bending parameters\n",
    "To store all this information, we will be using Pandas DataFrames.\n",
    "The angles (in radians) are computed behind-the-scenes, one angle type at a time\n",
    "1. Construct a probability distribution of angles $P(\\theta)$\n",
    "2. Perform a Boltzmann inversion to calculate the potential energy of these angles, noting the additional weighting factor, $V(\\theta) = -k_b * T * ln(p(\\theta)) = \\frac{1}{2} K_\\theta*(\\theta-\\theta_0)^{2}$, where $p(\\theta) = \\frac{P(\\theta)}{\\sin({\\theta})}$\n",
    "3. Fit a gaussian function to the probability distribution centered around the energetic minimum, $P(\\theta) = \\frac{A}{w\\sqrt{\\pi /2}} * e^{\\frac{-2 * (\\theta-\\theta_0)^{2}}{w^{2}}}$\n",
    "Note: due to the weighting factor, the gaussian distribution is somewhat skewed, so the distribution may be mirrored to provide a better energy well for fitting (see code `compute_angle_parameters()` in `cg_utils.py` for more detail)\n",
    "4. From the fitted parameters, the force constant $K_\\theta = \\frac{4*k_b * T}{w^{2}}$ and the reference angle is $\\theta_0$\n",
    "5. Angle distributions and energies are plotted for visualization and verification"
   ]
  },
  {
   "cell_type": "code",
   "execution_count": 9,
   "metadata": {},
   "outputs": [
    {
     "name": "stdout",
     "output_type": "stream",
     "text": [
      "_CH2-_CH2-_CH2: \n",
      "None\n",
      "_CH2-_CH3-_CH2: \n",
      "None\n",
      "_CH2-_CH2-_CH3: \n",
      "None\n",
      "_CH2-_CH3-_CH3: \n",
      "None\n",
      "_CH3-_CH2-_CH3: \n",
      "{'force_constant': 511.42458586389898, 'x0': 2.0921135668446036}\n",
      "_CH3-_CH3-_CH3: \n",
      "None\n",
      "           #angle  force_constant        x0\n",
      "0  _CH3-_CH2-_CH3      511.424586  2.092114\n"
     ]
    }
   ],
   "source": [
    "all_angle_parameters = pd.DataFrame(columns=['#angle','force_constant', 'x0'])\n",
    "for x,z in itertools.combinations_with_replacement(beadtypes, 2):\n",
    "        for y in beadtypes: \n",
    "            print(\"{}-{}-{}: \".format(x,y,z))\n",
    "            angle_parameters = system_state.compute_angle_parameters(x, y, z, plot=True)\n",
    "            print(angle_parameters)\n",
    "            if angle_parameters:\n",
    "                all_angle_parameters.loc[len(all_angle_parameters)] = \\\n",
    "                  ['{}-{}-{}'.format(x,y,z),\n",
    "                  angle_parameters['force_constant'], angle_parameters['x0']]\n",
    "\n",
    "print(all_angle_parameters)\n",
    "all_angle_parameters.to_csv('angle_parameters.dat', sep='\\t', index=False)"
   ]
  },
  {
   "cell_type": "markdown",
   "metadata": {},
   "source": [
    "For reference the reference angle is $120deg (2.0944 rad)$ with a force constant of $519.654 kJ mol^{-1} deg^{-1}$"
   ]
  },
  {
   "cell_type": "markdown",
   "metadata": {},
   "source": [
    "## Computing RDFs\n",
    "To compute nonbonded interactions, a Boltzmann inversion of the radial distribution function (RDF) is necessary. However, given the highly correlated nature of nonbonded interactions, an iterative approach is necessary (see multistate, iterative Boltzmann inversion developed by Timothy Moore)"
   ]
  },
  {
   "cell_type": "code",
   "execution_count": 11,
   "metadata": {},
   "outputs": [
    {
     "name": "stdout",
     "output_type": "stream",
     "text": [
      "---_CH2-_CH2---\n",
      "---_CH2-_CH3---\n",
      "---_CH3-_CH3---\n"
     ]
    }
   ],
   "source": [
    "for x,y in itertools.combinations_with_replacement(beadtypes, 2):\n",
    "    print(\"---{}-{}---\".format(x,y))\n",
    "    system_state.compute_rdf(x,y,\"{}-{}-{}\".format(x,y, \"state\"))"
   ]
  },
  {
   "cell_type": "code",
   "execution_count": null,
   "metadata": {
    "collapsed": true
   },
   "outputs": [],
   "source": []
  }
 ],
 "metadata": {
  "kernelspec": {
   "display_name": "Python 3",
   "language": "python",
   "name": "python3"
  },
  "language_info": {
   "codemirror_mode": {
    "name": "ipython",
    "version": 3
   },
   "file_extension": ".py",
   "mimetype": "text/x-python",
   "name": "python",
   "nbconvert_exporter": "python",
   "pygments_lexer": "ipython3",
   "version": "3.5.3"
  }
 },
 "nbformat": 4,
 "nbformat_minor": 2
}
